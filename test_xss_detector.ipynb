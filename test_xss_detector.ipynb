{
 "cells": [
  {
   "cell_type": "markdown",
   "id": "cd80ef7d",
   "metadata": {},
   "source": [
    "# XSS Attack Detection - Model Testing"
   ]
  },
  {
   "cell_type": "markdown",
   "id": "ccb67354",
   "metadata": {},
   "source": [
    "# 📚 Import Libraries"
   ]
  },
  {
   "cell_type": "code",
   "execution_count": 1,
   "id": "f952383b",
   "metadata": {},
   "outputs": [
    {
     "name": "stderr",
     "output_type": "stream",
     "text": [
      "2025-04-28 16:55:17.266350: I external/local_xla/xla/tsl/cuda/cudart_stub.cc:32] Could not find cuda drivers on your machine, GPU will not be used.\n",
      "2025-04-28 16:55:17.272401: I external/local_xla/xla/tsl/cuda/cudart_stub.cc:32] Could not find cuda drivers on your machine, GPU will not be used.\n",
      "2025-04-28 16:55:17.283945: E external/local_xla/xla/stream_executor/cuda/cuda_fft.cc:467] Unable to register cuFFT factory: Attempting to register factory for plugin cuFFT when one has already been registered\n",
      "WARNING: All log messages before absl::InitializeLog() is called are written to STDERR\n",
      "E0000 00:00:1745855717.309746  111253 cuda_dnn.cc:8579] Unable to register cuDNN factory: Attempting to register factory for plugin cuDNN when one has already been registered\n",
      "E0000 00:00:1745855717.315099  111253 cuda_blas.cc:1407] Unable to register cuBLAS factory: Attempting to register factory for plugin cuBLAS when one has already been registered\n",
      "W0000 00:00:1745855717.331996  111253 computation_placer.cc:177] computation placer already registered. Please check linkage and avoid linking the same target more than once.\n",
      "W0000 00:00:1745855717.332016  111253 computation_placer.cc:177] computation placer already registered. Please check linkage and avoid linking the same target more than once.\n",
      "W0000 00:00:1745855717.332018  111253 computation_placer.cc:177] computation placer already registered. Please check linkage and avoid linking the same target more than once.\n",
      "W0000 00:00:1745855717.332020  111253 computation_placer.cc:177] computation placer already registered. Please check linkage and avoid linking the same target more than once.\n",
      "2025-04-28 16:55:17.338382: I tensorflow/core/platform/cpu_feature_guard.cc:210] This TensorFlow binary is optimized to use available CPU instructions in performance-critical operations.\n",
      "To enable the following instructions: AVX2 FMA, in other operations, rebuild TensorFlow with the appropriate compiler flags.\n"
     ]
    }
   ],
   "source": [
    "import numpy as np\n",
    "import pickle\n",
    "from tensorflow.keras.models import load_model\n",
    "from tensorflow.keras.preprocessing.text import Tokenizer\n",
    "from tensorflow.keras.preprocessing.sequence import pad_sequences"
   ]
  },
  {
   "cell_type": "markdown",
   "id": "b80e1c95",
   "metadata": {},
   "source": [
    "# 1️⃣ Load the Saved Model and Tokenizer"
   ]
  },
  {
   "cell_type": "code",
   "execution_count": 2,
   "id": "0f43795d",
   "metadata": {},
   "outputs": [
    {
     "name": "stderr",
     "output_type": "stream",
     "text": [
      "2025-04-28 16:55:26.113545: E external/local_xla/xla/stream_executor/cuda/cuda_platform.cc:51] failed call to cuInit: INTERNAL: CUDA error: Failed call to cuInit: UNKNOWN ERROR (303)\n",
      "WARNING:absl:Compiled the loaded model, but the compiled metrics have yet to be built. `model.compile_metrics` will be empty until you train or evaluate the model.\n"
     ]
    },
    {
     "name": "stdout",
     "output_type": "stream",
     "text": [
      "✅ Model loaded successfully!\n",
      "✅ Tokenizer loaded successfully!\n"
     ]
    }
   ],
   "source": [
    "# Paths to the model and tokenizer\n",
    "MODEL_PATH = 'xss_detector_model.h5'\n",
    "TOKENIZER_PATH = 'tokenizer.pickle'\n",
    "MAX_LENGTH = 200  # Must match training\n",
    "\n",
    "# Load the trained model\n",
    "model = load_model(MODEL_PATH)\n",
    "print(\"✅ Model loaded successfully!\")\n",
    "\n",
    "# Load the saved tokenizer\n",
    "with open(TOKENIZER_PATH, 'rb') as handle:\n",
    "    tokenizer = pickle.load(handle)\n",
    "print(\"✅ Tokenizer loaded successfully!\")"
   ]
  },
  {
   "cell_type": "markdown",
   "id": "fa123a0e",
   "metadata": {},
   "source": [
    "# 2️⃣ Define the Prediction Function"
   ]
  },
  {
   "cell_type": "code",
   "execution_count": 24,
   "id": "9441bc4a",
   "metadata": {},
   "outputs": [],
   "source": [
    "def predict_xss(sentence):\n",
    "    \"\"\"\n",
    "    Predicts if the given sentence contains an XSS attack.\n",
    "    \"\"\"\n",
    "    # Preprocess input\n",
    "    sequence = tokenizer.texts_to_sequences([sentence])\n",
    "    padded = pad_sequences(sequence, maxlen=MAX_LENGTH, padding='post', truncating='post')\n",
    "    \n",
    "    # Make prediction\n",
    "    prediction = model.predict(padded)[0][0]\n",
    "    \n",
    "    # Display results\n",
    "    print(f\"\\nInput Sentence: {sentence}\")\n",
    "    print(f\"XSS Probability: {prediction:.4f}\")\n",
    "    \n",
    "    if prediction > 0.5:\n",
    "        print(\"⚠️  Detected as XSS Attack\")\n",
    "    else:\n",
    "        print(\"✅  Safe Sentence\")"
   ]
  },
  {
   "cell_type": "markdown",
   "id": "a9c8809f",
   "metadata": {},
   "source": [
    "# 3️⃣ Test the Model on New Inputs"
   ]
  },
  {
   "cell_type": "code",
   "execution_count": 25,
   "id": "56d2b107",
   "metadata": {},
   "outputs": [
    {
     "name": "stdout",
     "output_type": "stream",
     "text": [
      "\u001b[1m1/1\u001b[0m \u001b[32m━━━━━━━━━━━━━━━━━━━━\u001b[0m\u001b[37m\u001b[0m \u001b[1m0s\u001b[0m 85ms/step\n",
      "\n",
      "Input Sentence: Welcome to our website! We hope you enjoy your stay.\n",
      "XSS Probability: 0.0001\n",
      "✅  Safe Sentence\n",
      "\u001b[1m1/1\u001b[0m \u001b[32m━━━━━━━━━━━━━━━━━━━━\u001b[0m\u001b[37m\u001b[0m \u001b[1m0s\u001b[0m 83ms/step\n",
      "\n",
      "Input Sentence: <img src=x onerror=alert(1)>\n",
      "XSS Probability: 1.0000\n",
      "⚠️  Detected as XSS Attack\n",
      "\u001b[1m1/1\u001b[0m \u001b[32m━━━━━━━━━━━━━━━━━━━━\u001b[0m\u001b[37m\u001b[0m \u001b[1m0s\u001b[0m 99ms/step\n",
      "\n",
      "Input Sentence: <script>alert('XSS');</script>\n",
      "XSS Probability: 1.0000\n",
      "⚠️  Detected as XSS Attack\n"
     ]
    }
   ],
   "source": [
    "# Example 1: Safe input\n",
    "safe_sentence = \"Welcome to our website! We hope you enjoy your stay.\"\n",
    "predict_xss(safe_sentence)\n",
    "\n",
    "# Example 2: XSS payload\n",
    "xss_payload = \"<img src=x onerror=alert(1)>\"\n",
    "predict_xss(xss_payload)\n",
    "\n",
    "# Example 3: Another XSS attempt\n",
    "another_xss = \"<script>alert('XSS');</script>\"\n",
    "predict_xss(another_xss)"
   ]
  }
 ],
 "metadata": {
  "kernelspec": {
   "display_name": "XSS",
   "language": "python",
   "name": "xss"
  },
  "language_info": {
   "codemirror_mode": {
    "name": "ipython",
    "version": 3
   },
   "file_extension": ".py",
   "mimetype": "text/x-python",
   "name": "python",
   "nbconvert_exporter": "python",
   "pygments_lexer": "ipython3",
   "version": "3.12.3"
  }
 },
 "nbformat": 4,
 "nbformat_minor": 5
}
